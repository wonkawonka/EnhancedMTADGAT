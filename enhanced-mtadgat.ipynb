{
 "cells": [
  {
   "cell_type": "code",
   "execution_count": 1,
   "id": "544ec1f5",
   "metadata": {
    "_cell_guid": "b1076dfc-b9ad-4769-8c92-a6c4dae69d19",
    "_uuid": "8f2839f25d086af736a60e9eeb907d3b93b6e0e5",
    "execution": {
     "iopub.execute_input": "2025-05-07T17:24:20.734941Z",
     "iopub.status.busy": "2025-05-07T17:24:20.734488Z",
     "iopub.status.idle": "2025-05-07T17:24:22.094007Z",
     "shell.execute_reply": "2025-05-07T17:24:22.093466Z"
    },
    "papermill": {
     "duration": 1.363833,
     "end_time": "2025-05-07T17:24:22.095401",
     "exception": false,
     "start_time": "2025-05-07T17:24:20.731568",
     "status": "completed"
    },
    "tags": []
   },
   "outputs": [],
   "source": [
    "# This Python 3 environment comes with many helpful analytics libraries installed\n",
    "# It is defined by the kaggle/python Docker image: https://github.com/kaggle/docker-python\n",
    "# For example, here's several helpful packages to load\n",
    "\n",
    "import numpy as np # linear algebra\n",
    "import pandas as pd # data processing, CSV file I/O (e.g. pd.read_csv)\n",
    "\n",
    "# Input data files are available in the read-only \"../input/\" directory\n",
    "# For example, running this (by clicking run or pressing Shift+Enter) will list all files under the input directory\n",
    "\n",
    "import os\n",
    "for dirname, _, filenames in os.walk('/kaggle/input'):\n",
    "    for filename in filenames:\n",
    "        print(os.path.join(dirname, filename))\n",
    "\n",
    "# You can write up to 20GB to the current directory (/kaggle/working/) that gets preserved as output when you create a version using \"Save & Run All\" \n",
    "# You can also write temporary files to /kaggle/temp/, but they won't be saved outside of the current session"
   ]
  },
  {
   "cell_type": "code",
   "execution_count": 2,
   "id": "12fb68d5",
   "metadata": {
    "execution": {
     "iopub.execute_input": "2025-05-07T17:24:22.100894Z",
     "iopub.status.busy": "2025-05-07T17:24:22.100120Z",
     "iopub.status.idle": "2025-05-07T17:24:22.246734Z",
     "shell.execute_reply": "2025-05-07T17:24:22.246064Z"
    },
    "papermill": {
     "duration": 0.150093,
     "end_time": "2025-05-07T17:24:22.247805",
     "exception": false,
     "start_time": "2025-05-07T17:24:22.097712",
     "status": "completed"
    },
    "tags": []
   },
   "outputs": [
    {
     "name": "stdout",
     "output_type": "stream",
     "text": [
      "\u001b[33mhint: Using 'master' as the name for the initial branch. This default branch name\u001b[m\r\n",
      "\u001b[33mhint: is subject to change. To configure the initial branch name to use in all\u001b[m\r\n",
      "\u001b[33mhint: of your new repositories, which will suppress this warning, call:\u001b[m\r\n",
      "\u001b[33mhint: \u001b[m\r\n",
      "\u001b[33mhint: \tgit config --global init.defaultBranch <name>\u001b[m\r\n",
      "\u001b[33mhint: \u001b[m\r\n",
      "\u001b[33mhint: Names commonly chosen instead of 'master' are 'main', 'trunk' and\u001b[m\r\n",
      "\u001b[33mhint: 'development'. The just-created branch can be renamed via this command:\u001b[m\r\n",
      "\u001b[33mhint: \u001b[m\r\n",
      "\u001b[33mhint: \tgit branch -m <name>\u001b[m\r\n",
      "Initialized empty Git repository in /kaggle/working/.git/\r\n"
     ]
    }
   ],
   "source": [
    "!git init"
   ]
  },
  {
   "cell_type": "code",
   "execution_count": 3,
   "id": "325ca473",
   "metadata": {
    "execution": {
     "iopub.execute_input": "2025-05-07T17:24:22.256271Z",
     "iopub.status.busy": "2025-05-07T17:24:22.255969Z",
     "iopub.status.idle": "2025-05-07T17:25:20.745186Z",
     "shell.execute_reply": "2025-05-07T17:25:20.744431Z"
    },
    "papermill": {
     "duration": 58.494584,
     "end_time": "2025-05-07T17:25:20.746726",
     "exception": false,
     "start_time": "2025-05-07T17:24:22.252142",
     "status": "completed"
    },
    "tags": []
   },
   "outputs": [
    {
     "name": "stdout",
     "output_type": "stream",
     "text": [
      "Cloning into 'EnhancedMTADGAT'...\r\n",
      "remote: Enumerating objects: 6245, done.\u001b[K\r\n",
      "remote: Counting objects: 100% (42/42), done.\u001b[K\r\n",
      "remote: Compressing objects: 100% (32/32), done.\u001b[K\r\n",
      "remote: Total 6245 (delta 17), reused 30 (delta 9), pack-reused 6203 (from 1)\u001b[K\r\n",
      "Receiving objects: 100% (6245/6245), 933.82 MiB | 19.49 MiB/s, done.\r\n",
      "Resolving deltas: 100% (2754/2754), done.\r\n",
      "Updating files: 100% (165/165), done.\r\n"
     ]
    }
   ],
   "source": [
    "!git clone https://github.com/wonkawonka/EnhancedMTADGAT.git"
   ]
  },
  {
   "cell_type": "code",
   "execution_count": 4,
   "id": "1e5dee2e",
   "metadata": {
    "execution": {
     "iopub.execute_input": "2025-05-07T17:25:20.763022Z",
     "iopub.status.busy": "2025-05-07T17:25:20.762776Z",
     "iopub.status.idle": "2025-05-07T17:25:20.768673Z",
     "shell.execute_reply": "2025-05-07T17:25:20.767936Z"
    },
    "papermill": {
     "duration": 0.014673,
     "end_time": "2025-05-07T17:25:20.769847",
     "exception": false,
     "start_time": "2025-05-07T17:25:20.755174",
     "status": "completed"
    },
    "tags": []
   },
   "outputs": [
    {
     "name": "stdout",
     "output_type": "stream",
     "text": [
      "/kaggle/working/EnhancedMTADGAT\n"
     ]
    }
   ],
   "source": [
    "cd EnhancedMTADGAT"
   ]
  },
  {
   "cell_type": "code",
   "execution_count": 5,
   "id": "1f85e9a8",
   "metadata": {
    "execution": {
     "iopub.execute_input": "2025-05-07T17:25:20.783714Z",
     "iopub.status.busy": "2025-05-07T17:25:20.783535Z",
     "iopub.status.idle": "2025-05-07T18:47:23.382837Z",
     "shell.execute_reply": "2025-05-07T18:47:23.381855Z"
    },
    "papermill": {
     "duration": 4922.60799,
     "end_time": "2025-05-07T18:47:23.384528",
     "exception": false,
     "start_time": "2025-05-07T17:25:20.776538",
     "status": "completed"
    },
    "tags": []
   },
   "outputs": [
    {
     "name": "stdout",
     "output_type": "stream",
     "text": [
      "2025-05-07 17:25:28.420957: E external/local_xla/xla/stream_executor/cuda/cuda_fft.cc:477] Unable to register cuFFT factory: Attempting to register factory for plugin cuFFT when one has already been registered\r\n",
      "WARNING: All log messages before absl::InitializeLog() is called are written to STDERR\r\n",
      "E0000 00:00:1746638728.616508      55 cuda_dnn.cc:8310] Unable to register cuDNN factory: Attempting to register factory for plugin cuDNN when one has already been registered\r\n",
      "E0000 00:00:1746638728.670755      55 cuda_blas.cc:1418] Unable to register cuBLAS factory: Attempting to register factory for plugin cuBLAS when one has already been registered\r\n",
      "{'dynamic_graph': False, 'correlation_aware': False, 'use_transformer': False, 'dataset': 'SMAP', 'group': '1-1', 'lookback': 100, 'normalize': True, 'spec_res': False, 'kernel_size': 7, 'use_gatv2': True, 'feat_gat_embed_dim': None, 'time_gat_embed_dim': None, 'gru_n_layers': 1, 'gru_hid_dim': 150, 'fc_n_layers': 3, 'fc_hid_dim': 150, 'recon_n_layers': 1, 'recon_hid_dim': 150, 'alpha': 0.2, 'epochs': 100, 'val_split': 0.1, 'bs': 256, 'init_lr': 0.001, 'shuffle_dataset': True, 'dropout': 0.3, 'use_cuda': True, 'print_every': 1, 'log_tensorboard': True, 'scale_scores': False, 'use_mov_av': False, 'gamma': 1, 'level': None, 'q': None, 'dynamic_pot': False, 'comment': ''}\r\n",
      "load data of: SMAP\r\n",
      "train:  0 None\r\n",
      "test:  0 None\r\n",
      "Data normalized\r\n",
      "Data normalized\r\n",
      "train set shape:  (135183, 25)\r\n",
      "test set shape:  (427617, 25)\r\n",
      "test set label shape:  (427617,)\r\n",
      "Will forecast and reconstruct input features: [0]\r\n",
      "train_size: 121575\r\n",
      "validation_size: 13508\r\n",
      "test_size: 427517\r\n",
      "Init total train loss: 1.143184\r\n",
      "Init total val loss: 1.14433\r\n",
      "Training model for 100 epochs..\r\n",
      "[Epoch 1] forecast_loss = 0.15685, recon_loss = 0.20628, total_loss = 0.36314 ---- val_forecast_loss = 0.07121, val_recon_loss = 0.12236, val_total_loss = 0.19356 [46.2s]\r\n",
      "[Epoch 2] forecast_loss = 0.08787, recon_loss = 0.09786, total_loss = 0.18573 ---- val_forecast_loss = 0.06680, val_recon_loss = 0.08561, val_total_loss = 0.15241 [45.9s]\r\n",
      "[Epoch 3] forecast_loss = 0.08118, recon_loss = 0.08087, total_loss = 0.16205 ---- val_forecast_loss = 0.06935, val_recon_loss = 0.07856, val_total_loss = 0.14791 [45.8s]\r\n",
      "[Epoch 4] forecast_loss = 0.07807, recon_loss = 0.07513, total_loss = 0.15320 ---- val_forecast_loss = 0.06467, val_recon_loss = 0.07872, val_total_loss = 0.14339 [45.5s]\r\n",
      "[Epoch 5] forecast_loss = 0.07656, recon_loss = 0.07162, total_loss = 0.14818 ---- val_forecast_loss = 0.06374, val_recon_loss = 0.07338, val_total_loss = 0.13712 [45.8s]\r\n",
      "[Epoch 6] forecast_loss = 0.07468, recon_loss = 0.06863, total_loss = 0.14330 ---- val_forecast_loss = 0.06250, val_recon_loss = 0.06963, val_total_loss = 0.13213 [45.7s]\r\n",
      "[Epoch 7] forecast_loss = 0.07348, recon_loss = 0.06655, total_loss = 0.14003 ---- val_forecast_loss = 0.06237, val_recon_loss = 0.06545, val_total_loss = 0.12782 [46.0s]\r\n",
      "[Epoch 8] forecast_loss = 0.07253, recon_loss = 0.06495, total_loss = 0.13748 ---- val_forecast_loss = 0.05885, val_recon_loss = 0.06568, val_total_loss = 0.12452 [46.0s]\r\n",
      "[Epoch 9] forecast_loss = 0.07136, recon_loss = 0.06473, total_loss = 0.13609 ---- val_forecast_loss = 0.05989, val_recon_loss = 0.06395, val_total_loss = 0.12384 [46.0s]\r\n",
      "[Epoch 10] forecast_loss = 0.07020, recon_loss = 0.06222, total_loss = 0.13243 ---- val_forecast_loss = 0.06428, val_recon_loss = 0.06833, val_total_loss = 0.13260 [45.8s]\r\n",
      "[Epoch 11] forecast_loss = 0.06994, recon_loss = 0.06142, total_loss = 0.13135 ---- val_forecast_loss = 0.06070, val_recon_loss = 0.06115, val_total_loss = 0.12185 [45.9s]\r\n",
      "[Epoch 12] forecast_loss = 0.06943, recon_loss = 0.06074, total_loss = 0.13017 ---- val_forecast_loss = 0.05625, val_recon_loss = 0.06055, val_total_loss = 0.11680 [45.9s]\r\n",
      "[Epoch 13] forecast_loss = 0.06916, recon_loss = 0.06075, total_loss = 0.12991 ---- val_forecast_loss = 0.06101, val_recon_loss = 0.06812, val_total_loss = 0.12913 [46.0s]\r\n",
      "[Epoch 14] forecast_loss = 0.06821, recon_loss = 0.05917, total_loss = 0.12739 ---- val_forecast_loss = 0.05618, val_recon_loss = 0.06158, val_total_loss = 0.11776 [46.1s]\r\n",
      "[Epoch 15] forecast_loss = 0.06943, recon_loss = 0.06020, total_loss = 0.12963 ---- val_forecast_loss = 0.05501, val_recon_loss = 0.06055, val_total_loss = 0.11556 [46.1s]\r\n",
      "[Epoch 16] forecast_loss = 0.06799, recon_loss = 0.05799, total_loss = 0.12599 ---- val_forecast_loss = 0.05654, val_recon_loss = 0.05748, val_total_loss = 0.11403 [45.8s]\r\n",
      "[Epoch 17] forecast_loss = 0.06764, recon_loss = 0.05817, total_loss = 0.12581 ---- val_forecast_loss = 0.05601, val_recon_loss = 0.05921, val_total_loss = 0.11522 [46.1s]\r\n",
      "[Epoch 18] forecast_loss = 0.06675, recon_loss = 0.05745, total_loss = 0.12419 ---- val_forecast_loss = 0.05454, val_recon_loss = 0.05655, val_total_loss = 0.11109 [46.1s]\r\n",
      "[Epoch 19] forecast_loss = 0.06665, recon_loss = 0.05672, total_loss = 0.12337 ---- val_forecast_loss = 0.05431, val_recon_loss = 0.05716, val_total_loss = 0.11147 [46.1s]\r\n",
      "[Epoch 20] forecast_loss = 0.06619, recon_loss = 0.05633, total_loss = 0.12252 ---- val_forecast_loss = 0.05388, val_recon_loss = 0.06113, val_total_loss = 0.11501 [46.1s]\r\n",
      "[Epoch 21] forecast_loss = 0.06615, recon_loss = 0.05561, total_loss = 0.12176 ---- val_forecast_loss = 0.05421, val_recon_loss = 0.05733, val_total_loss = 0.11155 [46.1s]\r\n",
      "[Epoch 22] forecast_loss = 0.06629, recon_loss = 0.05612, total_loss = 0.12241 ---- val_forecast_loss = 0.05313, val_recon_loss = 0.05770, val_total_loss = 0.11083 [45.8s]\r\n",
      "[Epoch 23] forecast_loss = 0.06551, recon_loss = 0.05507, total_loss = 0.12058 ---- val_forecast_loss = 0.05277, val_recon_loss = 0.05488, val_total_loss = 0.10766 [46.1s]\r\n",
      "[Epoch 24] forecast_loss = 0.06526, recon_loss = 0.05423, total_loss = 0.11950 ---- val_forecast_loss = 0.05344, val_recon_loss = 0.05746, val_total_loss = 0.11090 [46.1s]\r\n",
      "[Epoch 25] forecast_loss = 0.06592, recon_loss = 0.05449, total_loss = 0.12041 ---- val_forecast_loss = 0.05403, val_recon_loss = 0.06538, val_total_loss = 0.11941 [46.1s]\r\n",
      "[Epoch 26] forecast_loss = 0.06505, recon_loss = 0.05419, total_loss = 0.11924 ---- val_forecast_loss = 0.05338, val_recon_loss = 0.05450, val_total_loss = 0.10787 [46.2s]\r\n",
      "[Epoch 27] forecast_loss = 0.06454, recon_loss = 0.05311, total_loss = 0.11764 ---- val_forecast_loss = 0.06256, val_recon_loss = 0.06467, val_total_loss = 0.12722 [46.1s]\r\n",
      "[Epoch 28] forecast_loss = 0.06595, recon_loss = 0.05413, total_loss = 0.12008 ---- val_forecast_loss = 0.05361, val_recon_loss = 0.05383, val_total_loss = 0.10744 [45.8s]\r\n",
      "[Epoch 29] forecast_loss = 0.06432, recon_loss = 0.05313, total_loss = 0.11746 ---- val_forecast_loss = 0.05234, val_recon_loss = 0.05220, val_total_loss = 0.10454 [46.1s]\r\n",
      "[Epoch 30] forecast_loss = 0.06393, recon_loss = 0.05206, total_loss = 0.11600 ---- val_forecast_loss = 0.05282, val_recon_loss = 0.05885, val_total_loss = 0.11166 [46.2s]\r\n",
      "[Epoch 31] forecast_loss = 0.06410, recon_loss = 0.05189, total_loss = 0.11599 ---- val_forecast_loss = 0.05322, val_recon_loss = 0.05201, val_total_loss = 0.10523 [46.1s]\r\n",
      "[Epoch 32] forecast_loss = 0.06368, recon_loss = 0.05110, total_loss = 0.11478 ---- val_forecast_loss = 0.05387, val_recon_loss = 0.05087, val_total_loss = 0.10474 [46.2s]\r\n",
      "[Epoch 33] forecast_loss = 0.06404, recon_loss = 0.05176, total_loss = 0.11580 ---- val_forecast_loss = 0.05212, val_recon_loss = 0.05230, val_total_loss = 0.10442 [46.1s]\r\n",
      "[Epoch 34] forecast_loss = 0.06348, recon_loss = 0.05058, total_loss = 0.11406 ---- val_forecast_loss = 0.05303, val_recon_loss = 0.05180, val_total_loss = 0.10483 [45.8s]\r\n",
      "[Epoch 35] forecast_loss = 0.06447, recon_loss = 0.05177, total_loss = 0.11623 ---- val_forecast_loss = 0.05298, val_recon_loss = 0.06314, val_total_loss = 0.11612 [46.1s]\r\n",
      "[Epoch 36] forecast_loss = 0.06313, recon_loss = 0.05006, total_loss = 0.11319 ---- val_forecast_loss = 0.05186, val_recon_loss = 0.05146, val_total_loss = 0.10333 [46.2s]\r\n",
      "[Epoch 37] forecast_loss = 0.06354, recon_loss = 0.05065, total_loss = 0.11419 ---- val_forecast_loss = 0.05207, val_recon_loss = 0.05268, val_total_loss = 0.10475 [46.3s]\r\n",
      "[Epoch 38] forecast_loss = 0.06316, recon_loss = 0.04957, total_loss = 0.11273 ---- val_forecast_loss = 0.05387, val_recon_loss = 0.05082, val_total_loss = 0.10469 [46.3s]\r\n",
      "[Epoch 39] forecast_loss = 0.06283, recon_loss = 0.05000, total_loss = 0.11283 ---- val_forecast_loss = 0.05183, val_recon_loss = 0.05033, val_total_loss = 0.10216 [46.2s]\r\n",
      "[Epoch 40] forecast_loss = 0.06254, recon_loss = 0.05081, total_loss = 0.11335 ---- val_forecast_loss = 0.05240, val_recon_loss = 0.04877, val_total_loss = 0.10117 [45.6s]\r\n",
      "[Epoch 41] forecast_loss = 0.06312, recon_loss = 0.04968, total_loss = 0.11280 ---- val_forecast_loss = 0.05475, val_recon_loss = 0.04955, val_total_loss = 0.10431 [45.9s]\r\n",
      "[Epoch 42] forecast_loss = 0.06212, recon_loss = 0.04886, total_loss = 0.11099 ---- val_forecast_loss = 0.05127, val_recon_loss = 0.05627, val_total_loss = 0.10754 [46.0s]\r\n",
      "[Epoch 43] forecast_loss = 0.06353, recon_loss = 0.05039, total_loss = 0.11392 ---- val_forecast_loss = 0.05384, val_recon_loss = 0.05229, val_total_loss = 0.10613 [45.9s]\r\n",
      "[Epoch 44] forecast_loss = 0.06310, recon_loss = 0.04937, total_loss = 0.11246 ---- val_forecast_loss = 0.05161, val_recon_loss = 0.05519, val_total_loss = 0.10680 [46.0s]\r\n",
      "[Epoch 45] forecast_loss = 0.06261, recon_loss = 0.04885, total_loss = 0.11146 ---- val_forecast_loss = 0.05158, val_recon_loss = 0.04903, val_total_loss = 0.10062 [45.9s]\r\n",
      "[Epoch 46] forecast_loss = 0.06197, recon_loss = 0.04819, total_loss = 0.11015 ---- val_forecast_loss = 0.05142, val_recon_loss = 0.05043, val_total_loss = 0.10185 [45.6s]\r\n",
      "[Epoch 47] forecast_loss = 0.06190, recon_loss = 0.04877, total_loss = 0.11067 ---- val_forecast_loss = 0.05112, val_recon_loss = 0.04868, val_total_loss = 0.09979 [45.9s]\r\n",
      "[Epoch 48] forecast_loss = 0.06168, recon_loss = 0.04821, total_loss = 0.10989 ---- val_forecast_loss = 0.05102, val_recon_loss = 0.04824, val_total_loss = 0.09926 [45.9s]\r\n",
      "[Epoch 49] forecast_loss = 0.06208, recon_loss = 0.04841, total_loss = 0.11049 ---- val_forecast_loss = 0.05250, val_recon_loss = 0.04968, val_total_loss = 0.10218 [46.0s]\r\n",
      "[Epoch 50] forecast_loss = 0.06186, recon_loss = 0.04858, total_loss = 0.11045 ---- val_forecast_loss = 0.05169, val_recon_loss = 0.04957, val_total_loss = 0.10126 [45.9s]\r\n",
      "[Epoch 51] forecast_loss = 0.06208, recon_loss = 0.04810, total_loss = 0.11018 ---- val_forecast_loss = 0.05161, val_recon_loss = 0.06035, val_total_loss = 0.11196 [45.9s]\r\n",
      "[Epoch 52] forecast_loss = 0.06170, recon_loss = 0.04819, total_loss = 0.10988 ---- val_forecast_loss = 0.05148, val_recon_loss = 0.04886, val_total_loss = 0.10033 [45.6s]\r\n",
      "[Epoch 53] forecast_loss = 0.06235, recon_loss = 0.04871, total_loss = 0.11106 ---- val_forecast_loss = 0.06689, val_recon_loss = 0.05070, val_total_loss = 0.11759 [45.9s]\r\n",
      "[Epoch 54] forecast_loss = 0.06124, recon_loss = 0.04717, total_loss = 0.10841 ---- val_forecast_loss = 0.05228, val_recon_loss = 0.05129, val_total_loss = 0.10357 [45.9s]\r\n",
      "[Epoch 55] forecast_loss = 0.06116, recon_loss = 0.04780, total_loss = 0.10896 ---- val_forecast_loss = 0.05106, val_recon_loss = 0.04792, val_total_loss = 0.09898 [45.9s]\r\n",
      "[Epoch 56] forecast_loss = 0.06081, recon_loss = 0.04739, total_loss = 0.10820 ---- val_forecast_loss = 0.05287, val_recon_loss = 0.04782, val_total_loss = 0.10069 [45.9s]\r\n",
      "[Epoch 57] forecast_loss = 0.06120, recon_loss = 0.04719, total_loss = 0.10839 ---- val_forecast_loss = 0.05229, val_recon_loss = 0.04775, val_total_loss = 0.10004 [45.9s]\r\n",
      "[Epoch 58] forecast_loss = 0.06212, recon_loss = 0.04866, total_loss = 0.11078 ---- val_forecast_loss = 0.05093, val_recon_loss = 0.04705, val_total_loss = 0.09798 [45.6s]\r\n",
      "[Epoch 59] forecast_loss = 0.06152, recon_loss = 0.04759, total_loss = 0.10911 ---- val_forecast_loss = 0.05218, val_recon_loss = 0.04690, val_total_loss = 0.09908 [45.9s]\r\n",
      "[Epoch 60] forecast_loss = 0.06088, recon_loss = 0.04662, total_loss = 0.10750 ---- val_forecast_loss = 0.05343, val_recon_loss = 0.04920, val_total_loss = 0.10263 [45.9s]\r\n",
      "[Epoch 61] forecast_loss = 0.06075, recon_loss = 0.04727, total_loss = 0.10803 ---- val_forecast_loss = 0.05129, val_recon_loss = 0.04970, val_total_loss = 0.10099 [45.9s]\r\n",
      "[Epoch 62] forecast_loss = 0.06097, recon_loss = 0.04745, total_loss = 0.10842 ---- val_forecast_loss = 0.05367, val_recon_loss = 0.05014, val_total_loss = 0.10381 [46.1s]\r\n",
      "[Epoch 63] forecast_loss = 0.06078, recon_loss = 0.04646, total_loss = 0.10724 ---- val_forecast_loss = 0.05092, val_recon_loss = 0.04616, val_total_loss = 0.09708 [46.1s]\r\n",
      "[Epoch 64] forecast_loss = 0.06038, recon_loss = 0.04627, total_loss = 0.10664 ---- val_forecast_loss = 0.05066, val_recon_loss = 0.04946, val_total_loss = 0.10013 [45.7s]\r\n",
      "[Epoch 65] forecast_loss = 0.06033, recon_loss = 0.04618, total_loss = 0.10651 ---- val_forecast_loss = 0.05118, val_recon_loss = 0.04768, val_total_loss = 0.09887 [46.0s]\r\n",
      "[Epoch 66] forecast_loss = 0.06022, recon_loss = 0.04667, total_loss = 0.10689 ---- val_forecast_loss = 0.05072, val_recon_loss = 0.04940, val_total_loss = 0.10012 [46.0s]\r\n",
      "[Epoch 67] forecast_loss = 0.06074, recon_loss = 0.04705, total_loss = 0.10779 ---- val_forecast_loss = 0.05109, val_recon_loss = 0.04815, val_total_loss = 0.09924 [46.0s]\r\n",
      "[Epoch 68] forecast_loss = 0.06001, recon_loss = 0.04678, total_loss = 0.10680 ---- val_forecast_loss = 0.05145, val_recon_loss = 0.04706, val_total_loss = 0.09852 [46.0s]\r\n",
      "[Epoch 69] forecast_loss = 0.06084, recon_loss = 0.04642, total_loss = 0.10725 ---- val_forecast_loss = 0.05241, val_recon_loss = 0.04732, val_total_loss = 0.09973 [46.0s]\r\n",
      "[Epoch 70] forecast_loss = 0.06058, recon_loss = 0.04583, total_loss = 0.10640 ---- val_forecast_loss = 0.05075, val_recon_loss = 0.04920, val_total_loss = 0.09996 [45.8s]\r\n",
      "[Epoch 71] forecast_loss = 0.05977, recon_loss = 0.04563, total_loss = 0.10541 ---- val_forecast_loss = 0.05269, val_recon_loss = 0.04953, val_total_loss = 0.10222 [46.0s]\r\n",
      "[Epoch 72] forecast_loss = 0.06000, recon_loss = 0.04648, total_loss = 0.10647 ---- val_forecast_loss = 0.05079, val_recon_loss = 0.04565, val_total_loss = 0.09644 [46.2s]\r\n",
      "[Epoch 73] forecast_loss = 0.06000, recon_loss = 0.04592, total_loss = 0.10592 ---- val_forecast_loss = 0.05013, val_recon_loss = 0.04649, val_total_loss = 0.09661 [46.2s]\r\n",
      "[Epoch 74] forecast_loss = 0.06087, recon_loss = 0.04688, total_loss = 0.10776 ---- val_forecast_loss = 0.05006, val_recon_loss = 0.04554, val_total_loss = 0.09560 [46.0s]\r\n",
      "[Epoch 75] forecast_loss = 0.06026, recon_loss = 0.04575, total_loss = 0.10601 ---- val_forecast_loss = 0.05099, val_recon_loss = 0.04502, val_total_loss = 0.09601 [45.9s]\r\n",
      "[Epoch 76] forecast_loss = 0.06029, recon_loss = 0.04582, total_loss = 0.10611 ---- val_forecast_loss = 0.05056, val_recon_loss = 0.04636, val_total_loss = 0.09692 [45.6s]\r\n",
      "[Epoch 77] forecast_loss = 0.05922, recon_loss = 0.04543, total_loss = 0.10466 ---- val_forecast_loss = 0.05073, val_recon_loss = 0.04559, val_total_loss = 0.09631 [46.0s]\r\n",
      "[Epoch 78] forecast_loss = 0.05974, recon_loss = 0.04520, total_loss = 0.10494 ---- val_forecast_loss = 0.05089, val_recon_loss = 0.04651, val_total_loss = 0.09741 [45.9s]\r\n",
      "[Epoch 79] forecast_loss = 0.05947, recon_loss = 0.04498, total_loss = 0.10445 ---- val_forecast_loss = 0.05156, val_recon_loss = 0.04539, val_total_loss = 0.09695 [45.9s]\r\n",
      "[Epoch 80] forecast_loss = 0.06104, recon_loss = 0.04639, total_loss = 0.10743 ---- val_forecast_loss = 0.05134, val_recon_loss = 0.04908, val_total_loss = 0.10043 [45.9s]\r\n",
      "[Epoch 81] forecast_loss = 0.06015, recon_loss = 0.04626, total_loss = 0.10641 ---- val_forecast_loss = 0.05189, val_recon_loss = 0.04636, val_total_loss = 0.09825 [46.0s]\r\n",
      "[Epoch 82] forecast_loss = 0.05926, recon_loss = 0.04519, total_loss = 0.10445 ---- val_forecast_loss = 0.05125, val_recon_loss = 0.04770, val_total_loss = 0.09895 [45.8s]\r\n",
      "[Epoch 83] forecast_loss = 0.06064, recon_loss = 0.04585, total_loss = 0.10649 ---- val_forecast_loss = 0.05076, val_recon_loss = 0.05358, val_total_loss = 0.10434 [46.2s]\r\n",
      "[Epoch 84] forecast_loss = 0.05993, recon_loss = 0.04507, total_loss = 0.10501 ---- val_forecast_loss = 0.05161, val_recon_loss = 0.04579, val_total_loss = 0.09740 [46.2s]\r\n",
      "[Epoch 85] forecast_loss = 0.05952, recon_loss = 0.04528, total_loss = 0.10479 ---- val_forecast_loss = 0.05019, val_recon_loss = 0.04512, val_total_loss = 0.09530 [46.2s]\r\n",
      "[Epoch 86] forecast_loss = 0.05908, recon_loss = 0.04423, total_loss = 0.10331 ---- val_forecast_loss = 0.05030, val_recon_loss = 0.04510, val_total_loss = 0.09539 [46.1s]\r\n",
      "[Epoch 87] forecast_loss = 0.05905, recon_loss = 0.04431, total_loss = 0.10336 ---- val_forecast_loss = 0.05167, val_recon_loss = 0.04487, val_total_loss = 0.09654 [46.1s]\r\n",
      "[Epoch 88] forecast_loss = 0.05930, recon_loss = 0.04506, total_loss = 0.10436 ---- val_forecast_loss = 0.05166, val_recon_loss = 0.04865, val_total_loss = 0.10031 [45.7s]\r\n",
      "[Epoch 89] forecast_loss = 0.05906, recon_loss = 0.04507, total_loss = 0.10413 ---- val_forecast_loss = 0.04969, val_recon_loss = 0.04609, val_total_loss = 0.09578 [45.9s]\r\n",
      "[Epoch 90] forecast_loss = 0.05870, recon_loss = 0.04468, total_loss = 0.10338 ---- val_forecast_loss = 0.05033, val_recon_loss = 0.04524, val_total_loss = 0.09558 [45.9s]\r\n",
      "[Epoch 91] forecast_loss = 0.05885, recon_loss = 0.04416, total_loss = 0.10302 ---- val_forecast_loss = 0.05227, val_recon_loss = 0.04751, val_total_loss = 0.09977 [45.9s]\r\n",
      "[Epoch 92] forecast_loss = 0.05857, recon_loss = 0.04437, total_loss = 0.10294 ---- val_forecast_loss = 0.05028, val_recon_loss = 0.04578, val_total_loss = 0.09605 [45.9s]\r\n",
      "[Epoch 93] forecast_loss = 0.05889, recon_loss = 0.04473, total_loss = 0.10362 ---- val_forecast_loss = 0.04948, val_recon_loss = 0.04456, val_total_loss = 0.09403 [45.8s]\r\n",
      "[Epoch 94] forecast_loss = 0.05913, recon_loss = 0.04487, total_loss = 0.10401 ---- val_forecast_loss = 0.05162, val_recon_loss = 0.04711, val_total_loss = 0.09874 [45.5s]\r\n",
      "[Epoch 95] forecast_loss = 0.05883, recon_loss = 0.04429, total_loss = 0.10312 ---- val_forecast_loss = 0.05036, val_recon_loss = 0.04494, val_total_loss = 0.09530 [45.8s]\r\n",
      "[Epoch 96] forecast_loss = 0.05873, recon_loss = 0.04342, total_loss = 0.10215 ---- val_forecast_loss = 0.05089, val_recon_loss = 0.04695, val_total_loss = 0.09784 [45.8s]\r\n",
      "[Epoch 97] forecast_loss = 0.05875, recon_loss = 0.04403, total_loss = 0.10278 ---- val_forecast_loss = 0.05089, val_recon_loss = 0.04805, val_total_loss = 0.09895 [45.9s]\r\n",
      "[Epoch 98] forecast_loss = 0.05849, recon_loss = 0.04397, total_loss = 0.10247 ---- val_forecast_loss = 0.05096, val_recon_loss = 0.04492, val_total_loss = 0.09588 [45.9s]\r\n",
      "[Epoch 99] forecast_loss = 0.05866, recon_loss = 0.04451, total_loss = 0.10317 ---- val_forecast_loss = 0.05718, val_recon_loss = 0.04571, val_total_loss = 0.10289 [45.8s]\r\n",
      "[Epoch 100] forecast_loss = 0.05982, recon_loss = 0.04486, total_loss = 0.10468 ---- val_forecast_loss = 0.05054, val_recon_loss = 0.04793, val_total_loss = 0.09847 [45.5s]\r\n",
      "-- Training done in 4595s.\r\n",
      "Test forecast loss: 0.05761\r\n",
      "Test reconstruction loss: 0.05390\r\n",
      "Test total loss: 0.11150\r\n",
      "/kaggle/working/EnhancedMTADGAT/training.py:248: FutureWarning: You are using `torch.load` with `weights_only=False` (the current default value), which uses the default pickle module implicitly. It is possible to construct malicious pickle data which will execute arbitrary code during unpickling (See https://github.com/pytorch/pytorch/blob/main/SECURITY.md#untrusted-models for more details). In a future release, the default value for `weights_only` will be flipped to `True`. This limits the functions that could be executed during unpickling. Arbitrary objects will no longer be allowed to be loaded via this mode unless they are explicitly allowlisted by the user via `torch.serialization.add_safe_globals`. We recommend you start setting `weights_only=True` for any use case where you don't have full control of the loaded file. Please open an issue on GitHub for any issues related to this experimental feature.\r\n",
      "  self.model.load_state_dict(torch.load(PATH, map_location=self.device))\r\n",
      "Predicting and calculating anomaly scores..\r\n",
      "100%|█████████████████████████████████████████| 528/528 [00:40<00:00, 13.16it/s]\r\n",
      "Predicting and calculating anomaly scores..\r\n",
      "100%|███████████████████████████████████████| 1670/1670 [02:07<00:00, 13.12it/s]\r\n",
      "Running POT with q=0.005, level=0.9..\r\n",
      "Initial threshold : 0.62108433\r\n",
      "Number of peaks : 13508\r\n",
      "Grimshaw maximum log-likelihood estimation ... [done]\r\n",
      "\tγ = -0.013853617943823338\r\n",
      "\tσ = 0.11148469114239673\r\n",
      "\tL = 16313.903364821046\r\n",
      "Extreme quantile (probability = 0.005): 0.9482247931706169\r\n",
      "100%|██████████████████████████████| 427517/427517 [00:00<00:00, 2265419.62it/s]\r\n",
      "0\r\n",
      "427517\r\n",
      "Finding best f1-score by searching for threshold..\r\n",
      "Results using epsilon method:\r\n",
      " {'f1': 0.7404202753544995, 'precision': 0.9965972713222392, 'recall': 0.5890193066057812, 'TP': 32217, 'TN': 372711, 'FP': 110, 'FN': 22479, 'threshold': 0.8619688227772713, 'latency': 158.12467057360297, 'reg_level': 0}\r\n",
      "Results using peak-over-threshold method:\r\n",
      " {'f1': 0.72766087099948, 'precision': 0.9975162396517908, 'recall': 0.5727292671177546, 'TP': 31326, 'TN': 372743, 'FP': 78, 'FN': 23370, 'threshold': 0.9482247931706169, 'latency': 199.5809312071367}\r\n",
      "Results using best f1 score search:\r\n",
      " {'f1': 0.8249167862660485, 'precision': 0.9844823649219091, 'recall': 0.7098690945023641, 'TP': 38827, 'TN': 372209, 'FP': 612, 'FN': 15869, 'threshold': 0.6070000000000005, 'latency': 142.61792251286815}\r\n",
      "Saving output to output/SMAP/07052025_172539/<train/test>_output.pkl\r\n",
      "-- Done.\r\n"
     ]
    }
   ],
   "source": [
    "!python train.py --dataset SMAP --lookback 100 --epochs 100 --init_lr 1e-3 --use_transformer False"
   ]
  },
  {
   "cell_type": "code",
   "execution_count": 6,
   "id": "a93b35ef",
   "metadata": {
    "execution": {
     "iopub.execute_input": "2025-05-07T18:47:23.490201Z",
     "iopub.status.busy": "2025-05-07T18:47:23.489597Z",
     "iopub.status.idle": "2025-05-07T20:54:51.433243Z",
     "shell.execute_reply": "2025-05-07T20:54:51.432407Z"
    },
    "papermill": {
     "duration": 7647.99746,
     "end_time": "2025-05-07T20:54:51.434649",
     "exception": false,
     "start_time": "2025-05-07T18:47:23.437189",
     "status": "completed"
    },
    "tags": []
   },
   "outputs": [
    {
     "name": "stdout",
     "output_type": "stream",
     "text": [
      "2025-05-07 18:47:27.125545: E external/local_xla/xla/stream_executor/cuda/cuda_fft.cc:477] Unable to register cuFFT factory: Attempting to register factory for plugin cuFFT when one has already been registered\r\n",
      "WARNING: All log messages before absl::InitializeLog() is called are written to STDERR\r\n",
      "E0000 00:00:1746643647.148518      73 cuda_dnn.cc:8310] Unable to register cuDNN factory: Attempting to register factory for plugin cuDNN when one has already been registered\r\n",
      "E0000 00:00:1746643647.156255      73 cuda_blas.cc:1418] Unable to register cuBLAS factory: Attempting to register factory for plugin cuBLAS when one has already been registered\r\n",
      "{'dynamic_graph': False, 'correlation_aware': False, 'use_transformer': True, 'dataset': 'SMAP', 'group': '1-1', 'lookback': 100, 'normalize': True, 'spec_res': False, 'kernel_size': 7, 'use_gatv2': True, 'feat_gat_embed_dim': None, 'time_gat_embed_dim': None, 'gru_n_layers': 1, 'gru_hid_dim': 150, 'fc_n_layers': 3, 'fc_hid_dim': 150, 'recon_n_layers': 1, 'recon_hid_dim': 150, 'alpha': 0.2, 'epochs': 100, 'val_split': 0.1, 'bs': 256, 'init_lr': 0.001, 'shuffle_dataset': True, 'dropout': 0.3, 'use_cuda': True, 'print_every': 1, 'log_tensorboard': True, 'scale_scores': False, 'use_mov_av': False, 'gamma': 1, 'level': None, 'q': None, 'dynamic_pot': False, 'comment': ''}\r\n",
      "load data of: SMAP\r\n",
      "train:  0 None\r\n",
      "test:  0 None\r\n",
      "Data normalized\r\n",
      "Data normalized\r\n",
      "train set shape:  (135183, 25)\r\n",
      "test set shape:  (427617, 25)\r\n",
      "test set label shape:  (427617,)\r\n",
      "Will forecast and reconstruct input features: [0]\r\n",
      "train_size: 121575\r\n",
      "validation_size: 13508\r\n",
      "test_size: 427517\r\n",
      "/usr/local/lib/python3.11/dist-packages/torch/nn/modules/transformer.py:379: UserWarning: enable_nested_tensor is True, but self.use_nested_tensor is False because encoder_layer.self_attn.num_heads is odd\r\n",
      "  warnings.warn(\r\n",
      "Init total train loss: 1.113093\r\n",
      "Init total val loss: 1.10299\r\n",
      "Training model for 100 epochs..\r\n",
      "[Epoch 1] forecast_loss = 0.16746, recon_loss = 0.19259, total_loss = 0.36005 ---- val_forecast_loss = 0.08518, val_recon_loss = 0.08897, val_total_loss = 0.17414 [71.7s]\r\n",
      "[Epoch 2] forecast_loss = 0.08961, recon_loss = 0.07786, total_loss = 0.16747 ---- val_forecast_loss = 0.07100, val_recon_loss = 0.06933, val_total_loss = 0.14033 [71.5s]\r\n",
      "[Epoch 3] forecast_loss = 0.08276, recon_loss = 0.06602, total_loss = 0.14878 ---- val_forecast_loss = 0.08163, val_recon_loss = 0.06511, val_total_loss = 0.14674 [71.3s]\r\n",
      "[Epoch 4] forecast_loss = 0.07887, recon_loss = 0.06066, total_loss = 0.13952 ---- val_forecast_loss = 0.07052, val_recon_loss = 0.05730, val_total_loss = 0.12782 [71.6s]\r\n",
      "[Epoch 5] forecast_loss = 0.07686, recon_loss = 0.05793, total_loss = 0.13479 ---- val_forecast_loss = 0.07488, val_recon_loss = 0.05531, val_total_loss = 0.13019 [71.6s]\r\n",
      "[Epoch 6] forecast_loss = 0.07588, recon_loss = 0.05528, total_loss = 0.13117 ---- val_forecast_loss = 0.07087, val_recon_loss = 0.05128, val_total_loss = 0.12215 [71.6s]\r\n",
      "[Epoch 7] forecast_loss = 0.07358, recon_loss = 0.05294, total_loss = 0.12652 ---- val_forecast_loss = 0.06549, val_recon_loss = 0.05174, val_total_loss = 0.11723 [71.7s]\r\n",
      "[Epoch 8] forecast_loss = 0.07277, recon_loss = 0.05123, total_loss = 0.12400 ---- val_forecast_loss = 0.06461, val_recon_loss = 0.05641, val_total_loss = 0.12102 [72.0s]\r\n",
      "[Epoch 9] forecast_loss = 0.07192, recon_loss = 0.05076, total_loss = 0.12267 ---- val_forecast_loss = 0.06375, val_recon_loss = 0.05025, val_total_loss = 0.11400 [71.8s]\r\n",
      "[Epoch 10] forecast_loss = 0.06974, recon_loss = 0.04870, total_loss = 0.11844 ---- val_forecast_loss = 0.06324, val_recon_loss = 0.04774, val_total_loss = 0.11098 [71.9s]\r\n",
      "[Epoch 11] forecast_loss = 0.07145, recon_loss = 0.05025, total_loss = 0.12170 ---- val_forecast_loss = 0.06161, val_recon_loss = 0.04952, val_total_loss = 0.11113 [71.7s]\r\n",
      "[Epoch 12] forecast_loss = 0.06818, recon_loss = 0.04674, total_loss = 0.11493 ---- val_forecast_loss = 0.06053, val_recon_loss = 0.04773, val_total_loss = 0.10826 [71.7s]\r\n",
      "[Epoch 13] forecast_loss = 0.06916, recon_loss = 0.04911, total_loss = 0.11828 ---- val_forecast_loss = 0.06015, val_recon_loss = 0.04704, val_total_loss = 0.10719 [71.8s]\r\n",
      "[Epoch 14] forecast_loss = 0.06717, recon_loss = 0.04596, total_loss = 0.11314 ---- val_forecast_loss = 0.06071, val_recon_loss = 0.04480, val_total_loss = 0.10551 [71.8s]\r\n",
      "[Epoch 15] forecast_loss = 0.06758, recon_loss = 0.04639, total_loss = 0.11396 ---- val_forecast_loss = 0.05957, val_recon_loss = 0.04486, val_total_loss = 0.10442 [71.5s]\r\n",
      "[Epoch 16] forecast_loss = 0.06704, recon_loss = 0.04571, total_loss = 0.11275 ---- val_forecast_loss = 0.06250, val_recon_loss = 0.04595, val_total_loss = 0.10845 [71.8s]\r\n",
      "[Epoch 17] forecast_loss = 0.06810, recon_loss = 0.04545, total_loss = 0.11355 ---- val_forecast_loss = 0.05897, val_recon_loss = 0.04625, val_total_loss = 0.10522 [72.2s]\r\n",
      "[Epoch 18] forecast_loss = 0.06769, recon_loss = 0.04611, total_loss = 0.11380 ---- val_forecast_loss = 0.05779, val_recon_loss = 0.04417, val_total_loss = 0.10195 [72.7s]\r\n",
      "[Epoch 19] forecast_loss = 0.06523, recon_loss = 0.04401, total_loss = 0.10924 ---- val_forecast_loss = 0.05974, val_recon_loss = 0.04453, val_total_loss = 0.10427 [72.7s]\r\n",
      "[Epoch 20] forecast_loss = 0.06681, recon_loss = 0.04499, total_loss = 0.11180 ---- val_forecast_loss = 0.05861, val_recon_loss = 0.04441, val_total_loss = 0.10302 [72.6s]\r\n",
      "[Epoch 21] forecast_loss = 0.06797, recon_loss = 0.04522, total_loss = 0.11320 ---- val_forecast_loss = 0.05769, val_recon_loss = 0.04389, val_total_loss = 0.10158 [72.3s]\r\n",
      "[Epoch 22] forecast_loss = 0.06451, recon_loss = 0.04235, total_loss = 0.10686 ---- val_forecast_loss = 0.05596, val_recon_loss = 0.04241, val_total_loss = 0.09836 [72.6s]\r\n",
      "[Epoch 23] forecast_loss = 0.06369, recon_loss = 0.04169, total_loss = 0.10538 ---- val_forecast_loss = 0.05577, val_recon_loss = 0.04219, val_total_loss = 0.09796 [72.7s]\r\n",
      "[Epoch 24] forecast_loss = 0.06395, recon_loss = 0.04189, total_loss = 0.10584 ---- val_forecast_loss = 0.05554, val_recon_loss = 0.04171, val_total_loss = 0.09725 [72.7s]\r\n",
      "[Epoch 25] forecast_loss = 0.06510, recon_loss = 0.04279, total_loss = 0.10789 ---- val_forecast_loss = 0.05670, val_recon_loss = 0.04124, val_total_loss = 0.09795 [72.7s]\r\n",
      "[Epoch 26] forecast_loss = 0.06354, recon_loss = 0.04055, total_loss = 0.10409 ---- val_forecast_loss = 0.05898, val_recon_loss = 0.04362, val_total_loss = 0.10260 [72.6s]\r\n",
      "[Epoch 27] forecast_loss = 0.06633, recon_loss = 0.04303, total_loss = 0.10936 ---- val_forecast_loss = 0.05598, val_recon_loss = 0.04079, val_total_loss = 0.09677 [72.4s]\r\n",
      "[Epoch 28] forecast_loss = 0.06450, recon_loss = 0.04062, total_loss = 0.10512 ---- val_forecast_loss = 0.05698, val_recon_loss = 0.04041, val_total_loss = 0.09739 [72.7s]\r\n",
      "[Epoch 29] forecast_loss = 0.06317, recon_loss = 0.03899, total_loss = 0.10216 ---- val_forecast_loss = 0.05658, val_recon_loss = 0.04067, val_total_loss = 0.09725 [72.7s]\r\n",
      "[Epoch 30] forecast_loss = 0.06424, recon_loss = 0.04015, total_loss = 0.10438 ---- val_forecast_loss = 0.05857, val_recon_loss = 0.04096, val_total_loss = 0.09952 [72.6s]\r\n",
      "[Epoch 31] forecast_loss = 0.06242, recon_loss = 0.03817, total_loss = 0.10059 ---- val_forecast_loss = 0.05782, val_recon_loss = 0.03946, val_total_loss = 0.09727 [72.7s]\r\n",
      "[Epoch 32] forecast_loss = 0.06236, recon_loss = 0.03740, total_loss = 0.09976 ---- val_forecast_loss = 0.05547, val_recon_loss = 0.03696, val_total_loss = 0.09243 [72.6s]\r\n",
      "[Epoch 33] forecast_loss = 0.06232, recon_loss = 0.03696, total_loss = 0.09928 ---- val_forecast_loss = 0.05680, val_recon_loss = 0.03854, val_total_loss = 0.09534 [72.3s]\r\n",
      "[Epoch 34] forecast_loss = 0.06208, recon_loss = 0.03612, total_loss = 0.09820 ---- val_forecast_loss = 0.05570, val_recon_loss = 0.03682, val_total_loss = 0.09251 [72.7s]\r\n",
      "[Epoch 35] forecast_loss = 0.06156, recon_loss = 0.03548, total_loss = 0.09704 ---- val_forecast_loss = 0.05438, val_recon_loss = 0.03443, val_total_loss = 0.08881 [72.7s]\r\n",
      "[Epoch 36] forecast_loss = 0.06576, recon_loss = 0.03883, total_loss = 0.10458 ---- val_forecast_loss = 0.05425, val_recon_loss = 0.03510, val_total_loss = 0.08935 [72.6s]\r\n",
      "[Epoch 37] forecast_loss = 0.06299, recon_loss = 0.03570, total_loss = 0.09870 ---- val_forecast_loss = 0.05466, val_recon_loss = 0.03406, val_total_loss = 0.08872 [72.6s]\r\n",
      "[Epoch 38] forecast_loss = 0.06122, recon_loss = 0.03375, total_loss = 0.09497 ---- val_forecast_loss = 0.05329, val_recon_loss = 0.03265, val_total_loss = 0.08594 [72.7s]\r\n",
      "[Epoch 39] forecast_loss = 0.06124, recon_loss = 0.03370, total_loss = 0.09494 ---- val_forecast_loss = 0.05285, val_recon_loss = 0.03419, val_total_loss = 0.08704 [72.3s]\r\n",
      "[Epoch 40] forecast_loss = 0.06127, recon_loss = 0.03312, total_loss = 0.09440 ---- val_forecast_loss = 0.05417, val_recon_loss = 0.03321, val_total_loss = 0.08738 [72.6s]\r\n",
      "[Epoch 41] forecast_loss = 0.06114, recon_loss = 0.03331, total_loss = 0.09445 ---- val_forecast_loss = 0.05457, val_recon_loss = 0.03167, val_total_loss = 0.08624 [72.6s]\r\n",
      "[Epoch 42] forecast_loss = 0.06136, recon_loss = 0.03272, total_loss = 0.09408 ---- val_forecast_loss = 0.05692, val_recon_loss = 0.03225, val_total_loss = 0.08917 [72.6s]\r\n",
      "[Epoch 43] forecast_loss = 0.06055, recon_loss = 0.03197, total_loss = 0.09251 ---- val_forecast_loss = 0.05302, val_recon_loss = 0.03166, val_total_loss = 0.08468 [72.6s]\r\n",
      "[Epoch 44] forecast_loss = 0.06030, recon_loss = 0.03147, total_loss = 0.09177 ---- val_forecast_loss = 0.05461, val_recon_loss = 0.03274, val_total_loss = 0.08734 [72.6s]\r\n",
      "[Epoch 45] forecast_loss = 0.06044, recon_loss = 0.03156, total_loss = 0.09200 ---- val_forecast_loss = 0.05428, val_recon_loss = 0.03025, val_total_loss = 0.08453 [72.3s]\r\n",
      "[Epoch 46] forecast_loss = 0.06146, recon_loss = 0.03194, total_loss = 0.09340 ---- val_forecast_loss = 0.05710, val_recon_loss = 0.03227, val_total_loss = 0.08937 [72.6s]\r\n",
      "[Epoch 47] forecast_loss = 0.06270, recon_loss = 0.03245, total_loss = 0.09515 ---- val_forecast_loss = 0.05409, val_recon_loss = 0.03196, val_total_loss = 0.08605 [72.6s]\r\n",
      "[Epoch 48] forecast_loss = 0.06109, recon_loss = 0.03276, total_loss = 0.09385 ---- val_forecast_loss = 0.05277, val_recon_loss = 0.03102, val_total_loss = 0.08378 [72.6s]\r\n",
      "[Epoch 49] forecast_loss = 0.06039, recon_loss = 0.03097, total_loss = 0.09136 ---- val_forecast_loss = 0.05258, val_recon_loss = 0.02971, val_total_loss = 0.08229 [72.6s]\r\n",
      "[Epoch 50] forecast_loss = 0.05913, recon_loss = 0.02984, total_loss = 0.08897 ---- val_forecast_loss = 0.05298, val_recon_loss = 0.02912, val_total_loss = 0.08211 [72.5s]\r\n",
      "[Epoch 51] forecast_loss = 0.06291, recon_loss = 0.03198, total_loss = 0.09488 ---- val_forecast_loss = 0.06860, val_recon_loss = 0.03341, val_total_loss = 0.10201 [72.3s]\r\n",
      "[Epoch 52] forecast_loss = 0.06235, recon_loss = 0.03094, total_loss = 0.09329 ---- val_forecast_loss = 0.05547, val_recon_loss = 0.03093, val_total_loss = 0.08640 [72.5s]\r\n",
      "[Epoch 53] forecast_loss = 0.06012, recon_loss = 0.02981, total_loss = 0.08994 ---- val_forecast_loss = 0.05610, val_recon_loss = 0.03075, val_total_loss = 0.08685 [72.6s]\r\n",
      "[Epoch 54] forecast_loss = 0.06048, recon_loss = 0.03072, total_loss = 0.09120 ---- val_forecast_loss = 0.05679, val_recon_loss = 0.03094, val_total_loss = 0.08773 [72.5s]\r\n",
      "[Epoch 55] forecast_loss = 0.05944, recon_loss = 0.02910, total_loss = 0.08854 ---- val_forecast_loss = 0.05354, val_recon_loss = 0.02943, val_total_loss = 0.08298 [72.5s]\r\n",
      "[Epoch 56] forecast_loss = 0.05977, recon_loss = 0.02980, total_loss = 0.08957 ---- val_forecast_loss = 0.05436, val_recon_loss = 0.02983, val_total_loss = 0.08419 [72.5s]\r\n",
      "[Epoch 57] forecast_loss = 0.06164, recon_loss = 0.03245, total_loss = 0.09409 ---- val_forecast_loss = 0.05564, val_recon_loss = 0.02956, val_total_loss = 0.08521 [72.2s]\r\n",
      "[Epoch 58] forecast_loss = 0.05882, recon_loss = 0.02902, total_loss = 0.08784 ---- val_forecast_loss = 0.05389, val_recon_loss = 0.02959, val_total_loss = 0.08348 [72.5s]\r\n",
      "[Epoch 59] forecast_loss = 0.05831, recon_loss = 0.02838, total_loss = 0.08669 ---- val_forecast_loss = 0.05445, val_recon_loss = 0.02865, val_total_loss = 0.08310 [72.6s]\r\n",
      "[Epoch 60] forecast_loss = 0.05871, recon_loss = 0.02869, total_loss = 0.08740 ---- val_forecast_loss = 0.05200, val_recon_loss = 0.02897, val_total_loss = 0.08097 [72.5s]\r\n",
      "[Epoch 61] forecast_loss = 0.05836, recon_loss = 0.02863, total_loss = 0.08699 ---- val_forecast_loss = 0.05286, val_recon_loss = 0.02790, val_total_loss = 0.08075 [72.6s]\r\n",
      "[Epoch 62] forecast_loss = 0.05857, recon_loss = 0.02819, total_loss = 0.08676 ---- val_forecast_loss = 0.05418, val_recon_loss = 0.03003, val_total_loss = 0.08421 [72.5s]\r\n",
      "[Epoch 63] forecast_loss = 0.05822, recon_loss = 0.02863, total_loss = 0.08685 ---- val_forecast_loss = 0.05752, val_recon_loss = 0.03389, val_total_loss = 0.09140 [72.2s]\r\n",
      "[Epoch 64] forecast_loss = 0.06088, recon_loss = 0.03123, total_loss = 0.09211 ---- val_forecast_loss = 0.05328, val_recon_loss = 0.03122, val_total_loss = 0.08450 [72.5s]\r\n",
      "[Epoch 65] forecast_loss = 0.05811, recon_loss = 0.02820, total_loss = 0.08631 ---- val_forecast_loss = 0.05428, val_recon_loss = 0.03002, val_total_loss = 0.08430 [72.5s]\r\n",
      "[Epoch 66] forecast_loss = 0.05915, recon_loss = 0.02835, total_loss = 0.08750 ---- val_forecast_loss = 0.06543, val_recon_loss = 0.03089, val_total_loss = 0.09633 [72.5s]\r\n",
      "[Epoch 67] forecast_loss = 0.06066, recon_loss = 0.03005, total_loss = 0.09071 ---- val_forecast_loss = 0.05098, val_recon_loss = 0.02858, val_total_loss = 0.07956 [72.5s]\r\n",
      "[Epoch 68] forecast_loss = 0.05800, recon_loss = 0.02802, total_loss = 0.08602 ---- val_forecast_loss = 0.05220, val_recon_loss = 0.02879, val_total_loss = 0.08099 [72.5s]\r\n",
      "[Epoch 69] forecast_loss = 0.05881, recon_loss = 0.02808, total_loss = 0.08689 ---- val_forecast_loss = 0.06771, val_recon_loss = 0.03652, val_total_loss = 0.10423 [72.3s]\r\n",
      "[Epoch 70] forecast_loss = 0.06158, recon_loss = 0.03039, total_loss = 0.09197 ---- val_forecast_loss = 0.05280, val_recon_loss = 0.02862, val_total_loss = 0.08142 [72.6s]\r\n",
      "[Epoch 71] forecast_loss = 0.05979, recon_loss = 0.02988, total_loss = 0.08967 ---- val_forecast_loss = 0.05268, val_recon_loss = 0.02860, val_total_loss = 0.08128 [72.6s]\r\n",
      "[Epoch 72] forecast_loss = 0.05772, recon_loss = 0.02756, total_loss = 0.08528 ---- val_forecast_loss = 0.05385, val_recon_loss = 0.02744, val_total_loss = 0.08129 [72.6s]\r\n",
      "[Epoch 73] forecast_loss = 0.05844, recon_loss = 0.02785, total_loss = 0.08629 ---- val_forecast_loss = 0.05194, val_recon_loss = 0.02907, val_total_loss = 0.08100 [72.6s]\r\n",
      "[Epoch 74] forecast_loss = 0.05726, recon_loss = 0.02653, total_loss = 0.08380 ---- val_forecast_loss = 0.05276, val_recon_loss = 0.02898, val_total_loss = 0.08174 [72.6s]\r\n",
      "[Epoch 75] forecast_loss = 0.06034, recon_loss = 0.02970, total_loss = 0.09005 ---- val_forecast_loss = 0.06031, val_recon_loss = 0.03283, val_total_loss = 0.09314 [72.3s]\r\n",
      "[Epoch 76] forecast_loss = 0.06038, recon_loss = 0.02948, total_loss = 0.08987 ---- val_forecast_loss = 0.05409, val_recon_loss = 0.03053, val_total_loss = 0.08462 [72.6s]\r\n",
      "[Epoch 77] forecast_loss = 0.05782, recon_loss = 0.02715, total_loss = 0.08497 ---- val_forecast_loss = 0.05315, val_recon_loss = 0.02713, val_total_loss = 0.08028 [72.6s]\r\n",
      "[Epoch 78] forecast_loss = 0.05768, recon_loss = 0.02732, total_loss = 0.08500 ---- val_forecast_loss = 0.05250, val_recon_loss = 0.02785, val_total_loss = 0.08035 [72.6s]\r\n",
      "[Epoch 79] forecast_loss = 0.05754, recon_loss = 0.02751, total_loss = 0.08505 ---- val_forecast_loss = 0.05256, val_recon_loss = 0.02792, val_total_loss = 0.08049 [72.6s]\r\n",
      "[Epoch 80] forecast_loss = 0.05724, recon_loss = 0.02672, total_loss = 0.08396 ---- val_forecast_loss = 0.05263, val_recon_loss = 0.02811, val_total_loss = 0.08074 [72.5s]\r\n",
      "[Epoch 81] forecast_loss = 0.05709, recon_loss = 0.02756, total_loss = 0.08465 ---- val_forecast_loss = 0.05595, val_recon_loss = 0.03044, val_total_loss = 0.08639 [72.3s]\r\n",
      "[Epoch 82] forecast_loss = 0.05731, recon_loss = 0.02735, total_loss = 0.08465 ---- val_forecast_loss = 0.05579, val_recon_loss = 0.02735, val_total_loss = 0.08314 [72.5s]\r\n",
      "[Epoch 83] forecast_loss = 0.05644, recon_loss = 0.02652, total_loss = 0.08296 ---- val_forecast_loss = 0.05400, val_recon_loss = 0.02732, val_total_loss = 0.08132 [72.5s]\r\n",
      "[Epoch 84] forecast_loss = 0.05721, recon_loss = 0.02785, total_loss = 0.08505 ---- val_forecast_loss = 0.05233, val_recon_loss = 0.02696, val_total_loss = 0.07930 [72.6s]\r\n",
      "[Epoch 85] forecast_loss = 0.05700, recon_loss = 0.02642, total_loss = 0.08342 ---- val_forecast_loss = 0.05229, val_recon_loss = 0.02668, val_total_loss = 0.07898 [72.6s]\r\n",
      "[Epoch 86] forecast_loss = 0.05624, recon_loss = 0.02663, total_loss = 0.08288 ---- val_forecast_loss = 0.05141, val_recon_loss = 0.02578, val_total_loss = 0.07719 [72.6s]\r\n",
      "[Epoch 87] forecast_loss = 0.05839, recon_loss = 0.02792, total_loss = 0.08631 ---- val_forecast_loss = 0.05176, val_recon_loss = 0.02749, val_total_loss = 0.07925 [72.3s]\r\n",
      "[Epoch 88] forecast_loss = 0.05710, recon_loss = 0.02652, total_loss = 0.08361 ---- val_forecast_loss = 0.05589, val_recon_loss = 0.02822, val_total_loss = 0.08412 [72.5s]\r\n",
      "[Epoch 89] forecast_loss = 0.05927, recon_loss = 0.02861, total_loss = 0.08788 ---- val_forecast_loss = 0.05352, val_recon_loss = 0.02685, val_total_loss = 0.08038 [72.5s]\r\n",
      "[Epoch 90] forecast_loss = 0.05948, recon_loss = 0.02687, total_loss = 0.08635 ---- val_forecast_loss = 0.05385, val_recon_loss = 0.02819, val_total_loss = 0.08205 [72.6s]\r\n",
      "[Epoch 91] forecast_loss = 0.05816, recon_loss = 0.02791, total_loss = 0.08607 ---- val_forecast_loss = 0.05501, val_recon_loss = 0.02686, val_total_loss = 0.08187 [72.6s]\r\n",
      "[Epoch 92] forecast_loss = 0.05609, recon_loss = 0.02581, total_loss = 0.08190 ---- val_forecast_loss = 0.05118, val_recon_loss = 0.02556, val_total_loss = 0.07674 [72.5s]\r\n",
      "[Epoch 93] forecast_loss = 0.05591, recon_loss = 0.02584, total_loss = 0.08175 ---- val_forecast_loss = 0.05349, val_recon_loss = 0.02602, val_total_loss = 0.07951 [72.2s]\r\n",
      "[Epoch 94] forecast_loss = 0.05777, recon_loss = 0.02814, total_loss = 0.08591 ---- val_forecast_loss = 0.05104, val_recon_loss = 0.02654, val_total_loss = 0.07758 [72.5s]\r\n",
      "[Epoch 95] forecast_loss = 0.05591, recon_loss = 0.02555, total_loss = 0.08146 ---- val_forecast_loss = 0.05209, val_recon_loss = 0.02492, val_total_loss = 0.07701 [72.4s]\r\n",
      "[Epoch 96] forecast_loss = 0.05604, recon_loss = 0.02634, total_loss = 0.08238 ---- val_forecast_loss = 0.05120, val_recon_loss = 0.02725, val_total_loss = 0.07845 [72.6s]\r\n",
      "[Epoch 97] forecast_loss = 0.05624, recon_loss = 0.02618, total_loss = 0.08242 ---- val_forecast_loss = 0.05204, val_recon_loss = 0.02621, val_total_loss = 0.07826 [72.5s]\r\n",
      "[Epoch 98] forecast_loss = 0.05521, recon_loss = 0.02527, total_loss = 0.08048 ---- val_forecast_loss = 0.05232, val_recon_loss = 0.02564, val_total_loss = 0.07796 [72.5s]\r\n",
      "[Epoch 99] forecast_loss = 0.05568, recon_loss = 0.02557, total_loss = 0.08125 ---- val_forecast_loss = 0.05269, val_recon_loss = 0.02614, val_total_loss = 0.07883 [72.2s]\r\n",
      "[Epoch 100] forecast_loss = 0.05520, recon_loss = 0.02539, total_loss = 0.08060 ---- val_forecast_loss = 0.05391, val_recon_loss = 0.02637, val_total_loss = 0.08028 [72.5s]\r\n",
      "-- Training done in 7239s.\r\n",
      "Test forecast loss: 0.05894\r\n",
      "Test reconstruction loss: 0.02923\r\n",
      "Test total loss: 0.08817\r\n",
      "/kaggle/working/EnhancedMTADGAT/training.py:248: FutureWarning: You are using `torch.load` with `weights_only=False` (the current default value), which uses the default pickle module implicitly. It is possible to construct malicious pickle data which will execute arbitrary code during unpickling (See https://github.com/pytorch/pytorch/blob/main/SECURITY.md#untrusted-models for more details). In a future release, the default value for `weights_only` will be flipped to `True`. This limits the functions that could be executed during unpickling. Arbitrary objects will no longer be allowed to be loaded via this mode unless they are explicitly allowlisted by the user via `torch.serialization.add_safe_globals`. We recommend you start setting `weights_only=True` for any use case where you don't have full control of the loaded file. Please open an issue on GitHub for any issues related to this experimental feature.\r\n",
      "  self.model.load_state_dict(torch.load(PATH, map_location=self.device))\r\n",
      "Predicting and calculating anomaly scores..\r\n",
      "100%|█████████████████████████████████████████| 528/528 [00:55<00:00,  9.51it/s]\r\n",
      "Predicting and calculating anomaly scores..\r\n",
      "100%|███████████████████████████████████████| 1670/1670 [02:56<00:00,  9.48it/s]\r\n",
      "Running POT with q=0.005, level=0.9..\r\n",
      "Initial threshold : 0.4650236\r\n",
      "Number of peaks : 13508\r\n",
      "Grimshaw maximum log-likelihood estimation ... [done]\r\n",
      "\tγ = -0.03695515915751457\r\n",
      "\tσ = 0.26591317894106337\r\n",
      "\tL = 4883.68966043603\r\n",
      "Extreme quantile (probability = 0.005): 1.2191110187190488\r\n",
      "100%|██████████████████████████████| 427517/427517 [00:00<00:00, 2201158.39it/s]\r\n",
      "0\r\n",
      "427517\r\n",
      "Finding best f1-score by searching for threshold..\r\n",
      "Results using epsilon method:\r\n",
      " {'f1': 0.8459223229690942, 'precision': 0.9916422897687759, 'recall': 0.7375493636211881, 'TP': 40341, 'TN': 372481, 'FP': 340, 'FN': 14355, 'threshold': 0.7246772274374962, 'latency': 129.7997640004291, 'reg_level': 0}\r\n",
      "Results using peak-over-threshold method:\r\n",
      " {'f1': 0.0, 'precision': 0.0, 'recall': 0.0, 'TP': 0, 'TN': 372821, 'FP': 0, 'FN': 54696, 'threshold': 1.219111018719049, 'latency': 0.0}\r\n",
      "Results using best f1 score search:\r\n",
      " {'f1': 0.9229766263822792, 'precision': 0.948312439547095, 'recall': 0.8989688458207238, 'TP': 49170, 'TN': 370141, 'FP': 2680, 'FN': 5526, 'threshold': 0.4478000000000003, 'latency': 87.3904884523618}\r\n",
      "Saving output to output/SMAP/07052025_184729/<train/test>_output.pkl\r\n",
      "-- Done.\r\n"
     ]
    }
   ],
   "source": [
    "!python train.py --dataset SMAP --lookback 100 --epochs 100 --init_lr 1e-3 --use_transformer True"
   ]
  },
  {
   "cell_type": "code",
   "execution_count": 7,
   "id": "5231d19e",
   "metadata": {
    "execution": {
     "iopub.execute_input": "2025-05-07T20:54:51.726713Z",
     "iopub.status.busy": "2025-05-07T20:54:51.726001Z",
     "iopub.status.idle": "2025-05-07T20:55:00.101289Z",
     "shell.execute_reply": "2025-05-07T20:55:00.100492Z"
    },
    "papermill": {
     "duration": 8.523191,
     "end_time": "2025-05-07T20:55:00.102830",
     "exception": false,
     "start_time": "2025-05-07T20:54:51.579639",
     "status": "completed"
    },
    "tags": []
   },
   "outputs": [
    {
     "name": "stdout",
     "output_type": "stream",
     "text": [
      "2025-05-07 20:54:55.604513: E external/local_xla/xla/stream_executor/cuda/cuda_fft.cc:477] Unable to register cuFFT factory: Attempting to register factory for plugin cuFFT when one has already been registered\r\n",
      "WARNING: All log messages before absl::InitializeLog() is called are written to STDERR\r\n",
      "E0000 00:00:1746651295.628659      91 cuda_dnn.cc:8310] Unable to register cuDNN factory: Attempting to register factory for plugin cuDNN when one has already been registered\r\n",
      "E0000 00:00:1746651295.636052      91 cuda_blas.cc:1418] Unable to register cuBLAS factory: Attempting to register factory for plugin cuBLAS when one has already been registered\r\n",
      "{'dynamic_graph': False, 'correlation_aware': False, 'use_transformer': False, 'dataset': 'MSL', 'group': '1-1', 'lookback': 100, 'normalize': True, 'spec_res': False, 'kernel_size': 7, 'use_gatv2': True, 'feat_gat_embed_dim': None, 'time_gat_embed_dim': None, 'gru_n_layers': 1, 'gru_hid_dim': 150, 'fc_n_layers': 3, 'fc_hid_dim': 150, 'recon_n_layers': 1, 'recon_hid_dim': 150, 'alpha': 0.2, 'epochs': 100, 'val_split': 0.1, 'bs': 256, 'init_lr': 0.001, 'shuffle_dataset': True, 'dropout': 0.3, 'use_cuda': True, 'print_every': 1, 'log_tensorboard': True, 'scale_scores': False, 'use_mov_av': False, 'gamma': 1, 'level': None, 'q': None, 'dynamic_pot': False, 'comment': ''}\r\n",
      "load data of: MSL\r\n",
      "train:  0 None\r\n",
      "test:  0 None\r\n",
      "Traceback (most recent call last):\r\n",
      "  File \"/kaggle/working/EnhancedMTADGAT/train.py\", line 40, in <module>\r\n",
      "    (x_train, _), (x_test, y_test) = get_data(dataset, normalize=normalize)\r\n",
      "                                     ^^^^^^^^^^^^^^^^^^^^^^^^^^^^^^^^^^^^^^\r\n",
      "  File \"/kaggle/working/EnhancedMTADGAT/utils.py\", line 81, in get_data\r\n",
      "    f = open(os.path.join(prefix, dataset + \"_train.pkl\"), \"rb\")\r\n",
      "        ^^^^^^^^^^^^^^^^^^^^^^^^^^^^^^^^^^^^^^^^^^^^^^^^^^^^^^^^\r\n",
      "FileNotFoundError: [Errno 2] No such file or directory: 'datasets/data/processed/MSL_train.pkl'\r\n"
     ]
    }
   ],
   "source": [
    "!python train.py --dataset MSL --lookback 100 --epochs 100 --init_lr 1e-3 --use_transformer False"
   ]
  },
  {
   "cell_type": "code",
   "execution_count": 8,
   "id": "07c2edb9",
   "metadata": {
    "execution": {
     "iopub.execute_input": "2025-05-07T20:55:00.397805Z",
     "iopub.status.busy": "2025-05-07T20:55:00.396981Z",
     "iopub.status.idle": "2025-05-07T20:55:08.597201Z",
     "shell.execute_reply": "2025-05-07T20:55:08.596254Z"
    },
    "papermill": {
     "duration": 8.347025,
     "end_time": "2025-05-07T20:55:08.598647",
     "exception": false,
     "start_time": "2025-05-07T20:55:00.251622",
     "status": "completed"
    },
    "tags": []
   },
   "outputs": [
    {
     "name": "stdout",
     "output_type": "stream",
     "text": [
      "2025-05-07 20:55:04.164054: E external/local_xla/xla/stream_executor/cuda/cuda_fft.cc:477] Unable to register cuFFT factory: Attempting to register factory for plugin cuFFT when one has already been registered\r\n",
      "WARNING: All log messages before absl::InitializeLog() is called are written to STDERR\r\n",
      "E0000 00:00:1746651304.187988     103 cuda_dnn.cc:8310] Unable to register cuDNN factory: Attempting to register factory for plugin cuDNN when one has already been registered\r\n",
      "E0000 00:00:1746651304.195016     103 cuda_blas.cc:1418] Unable to register cuBLAS factory: Attempting to register factory for plugin cuBLAS when one has already been registered\r\n",
      "{'dynamic_graph': False, 'correlation_aware': False, 'use_transformer': True, 'dataset': 'MSL', 'group': '1-1', 'lookback': 100, 'normalize': True, 'spec_res': False, 'kernel_size': 7, 'use_gatv2': True, 'feat_gat_embed_dim': None, 'time_gat_embed_dim': None, 'gru_n_layers': 1, 'gru_hid_dim': 150, 'fc_n_layers': 3, 'fc_hid_dim': 150, 'recon_n_layers': 1, 'recon_hid_dim': 150, 'alpha': 0.2, 'epochs': 100, 'val_split': 0.1, 'bs': 256, 'init_lr': 0.001, 'shuffle_dataset': True, 'dropout': 0.3, 'use_cuda': True, 'print_every': 1, 'log_tensorboard': True, 'scale_scores': False, 'use_mov_av': False, 'gamma': 1, 'level': None, 'q': None, 'dynamic_pot': False, 'comment': ''}\r\n",
      "load data of: MSL\r\n",
      "train:  0 None\r\n",
      "test:  0 None\r\n",
      "Traceback (most recent call last):\r\n",
      "  File \"/kaggle/working/EnhancedMTADGAT/train.py\", line 40, in <module>\r\n",
      "    (x_train, _), (x_test, y_test) = get_data(dataset, normalize=normalize)\r\n",
      "                                     ^^^^^^^^^^^^^^^^^^^^^^^^^^^^^^^^^^^^^^\r\n",
      "  File \"/kaggle/working/EnhancedMTADGAT/utils.py\", line 81, in get_data\r\n",
      "    f = open(os.path.join(prefix, dataset + \"_train.pkl\"), \"rb\")\r\n",
      "        ^^^^^^^^^^^^^^^^^^^^^^^^^^^^^^^^^^^^^^^^^^^^^^^^^^^^^^^^\r\n",
      "FileNotFoundError: [Errno 2] No such file or directory: 'datasets/data/processed/MSL_train.pkl'\r\n"
     ]
    }
   ],
   "source": [
    "!python train.py --dataset MSL --lookback 100 --epochs 100 --init_lr 1e-3 --use_transformer True"
   ]
  }
 ],
 "metadata": {
  "kaggle": {
   "accelerator": "gpu",
   "dataSources": [],
   "dockerImageVersionId": 31011,
   "isGpuEnabled": true,
   "isInternetEnabled": true,
   "language": "python",
   "sourceType": "notebook"
  },
  "kernelspec": {
   "display_name": "Python 3",
   "language": "python",
   "name": "python3"
  },
  "language_info": {
   "codemirror_mode": {
    "name": "ipython",
    "version": 3
   },
   "file_extension": ".py",
   "mimetype": "text/x-python",
   "name": "python",
   "nbconvert_exporter": "python",
   "pygments_lexer": "ipython3",
   "version": "3.11.11"
  },
  "papermill": {
   "default_parameters": {},
   "duration": 12652.410175,
   "end_time": "2025-05-07T20:55:09.173371",
   "environment_variables": {},
   "exception": null,
   "input_path": "__notebook__.ipynb",
   "output_path": "__notebook__.ipynb",
   "parameters": {},
   "start_time": "2025-05-07T17:24:16.763196",
   "version": "2.6.0"
  }
 },
 "nbformat": 4,
 "nbformat_minor": 5
}
